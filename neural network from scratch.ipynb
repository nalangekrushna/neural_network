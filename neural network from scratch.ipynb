{
 "cells": [
  {
   "cell_type": "code",
   "execution_count": 1,
   "metadata": {},
   "outputs": [],
   "source": [
    "import math\n",
    "import random\n",
    "random.seed(123)\n",
    "import numpy as np\n",
    "import pandas as pd\n",
    "np.random.seed(123)"
   ]
  },
  {
   "cell_type": "code",
   "execution_count": 2,
   "metadata": {},
   "outputs": [],
   "source": [
    "# read txt file and convert it into pandas dataframe.\n",
    "txt = ''\n",
    "with open('seeds_dataset.txt') as f :\n",
    "    txt = f.read()\n",
    "    "
   ]
  },
  {
   "cell_type": "code",
   "execution_count": 3,
   "metadata": {},
   "outputs": [],
   "source": [
    "data = []\n",
    "for line in txt.split('\\n') :\n",
    "    data.append([word for word in line.split('\\t') if word != ''])"
   ]
  },
  {
   "cell_type": "code",
   "execution_count": 4,
   "metadata": {},
   "outputs": [],
   "source": [
    "df = pd.DataFrame(data,columns=['area','perimeter','compactness','kernel_len','kernel_wid','coef_asymmetry','kernel_groove_len'\n",
    "                               ,'wheat_type'],copy=True)"
   ]
  },
  {
   "cell_type": "code",
   "execution_count": 5,
   "metadata": {},
   "outputs": [
    {
     "data": {
      "text/plain": [
       "array(['1', '2', '3'], dtype=object)"
      ]
     },
     "execution_count": 5,
     "metadata": {},
     "output_type": "execute_result"
    }
   ],
   "source": [
    "df.wheat_type.unique()"
   ]
  },
  {
   "cell_type": "code",
   "execution_count": 6,
   "metadata": {},
   "outputs": [
    {
     "data": {
      "text/plain": [
       "(210, 8)"
      ]
     },
     "execution_count": 6,
     "metadata": {},
     "output_type": "execute_result"
    }
   ],
   "source": [
    "df.shape"
   ]
  },
  {
   "cell_type": "code",
   "execution_count": 7,
   "metadata": {},
   "outputs": [
    {
     "data": {
      "text/plain": [
       "0.052363598850944326"
      ]
     },
     "execution_count": 7,
     "metadata": {},
     "output_type": "execute_result"
    }
   ],
   "source": [
    "def get_normal_random_weight() :\n",
    "    return random.uniform(0, 1)\n",
    "get_normal_random_weight()"
   ]
  },
  {
   "cell_type": "code",
   "execution_count": 8,
   "metadata": {},
   "outputs": [],
   "source": [
    "def build_single_neuron(inp) :\n",
    "    neuron = {}\n",
    "    neuron['weights'] = [ random.uniform(0, 1) for i in range(inp+1) ]\n",
    "    return neuron"
   ]
  },
  {
   "cell_type": "code",
   "execution_count": 9,
   "metadata": {
    "scrolled": true
   },
   "outputs": [],
   "source": [
    "def build_single_hidden_layer(no_of_neurons,no_of_inputs) :\n",
    "    layer = []\n",
    "    for i in range(no_of_neurons) :\n",
    "        layer.append(build_single_neuron(no_of_inputs))\n",
    "    return layer"
   ]
  },
  {
   "cell_type": "code",
   "execution_count": 10,
   "metadata": {},
   "outputs": [],
   "source": [
    "def build_hidden_layers(layers,no_of_neurons,no_of_inputs) :\n",
    "    network = []\n",
    "    for i in range(layers) :\n",
    "        network.append(build_single_hidden_layer(no_of_neurons,no_of_inputs))\n",
    "    return network"
   ]
  },
  {
   "cell_type": "code",
   "execution_count": 11,
   "metadata": {},
   "outputs": [],
   "source": [
    "def build_output_layer(out_neuron,no_of_inputs) :\n",
    "    return build_single_hidden_layer(out_neuron,no_of_inputs)"
   ]
  },
  {
   "cell_type": "code",
   "execution_count": 12,
   "metadata": {},
   "outputs": [],
   "source": [
    "def calculate_activation_value(weights,inputs) :\n",
    "    activation = weights[-1]\n",
    "    for i in range(len(weights)-1) :\n",
    "        activation += weights[i] * float(inputs[i])\n",
    "    return activation"
   ]
  },
  {
   "cell_type": "code",
   "execution_count": 13,
   "metadata": {},
   "outputs": [],
   "source": [
    "def transfer(act) :\n",
    "    return 1.0/(1.0+math.exp(-act))"
   ]
  },
  {
   "cell_type": "code",
   "execution_count": 14,
   "metadata": {},
   "outputs": [],
   "source": [
    "def forward_propagate(network,row) :\n",
    "    inputs = row\n",
    "    for i,layer in enumerate(network) :\n",
    "        new_inputs = []\n",
    "        for j,neuron in enumerate(layer) :\n",
    "            activation = calculate_activation_value(neuron['weights'],inputs)\n",
    "            neuron['output'] = transfer(activation)\n",
    "            new_inputs.append(neuron['output'])\n",
    "        inputs = new_inputs\n",
    "    return inputs"
   ]
  },
  {
   "cell_type": "code",
   "execution_count": 15,
   "metadata": {},
   "outputs": [
    {
     "name": "stdout",
     "output_type": "stream",
     "text": [
      "7 2 7 3\n"
     ]
    }
   ],
   "source": [
    "inp = df.shape[1] -1 \n",
    "hidden_layers = 2    # two hidden layers.\n",
    "hidden_neurons = 7 \n",
    "\n",
    "out = len(df.wheat_type.unique())\n",
    "print(inp,hidden_layers,hidden_neurons,out)\n",
    "\n",
    "def build_neural_network(inp,hidden_layers,hidden_neurons,out) :\n",
    "    network = build_hidden_layers(hidden_layers,hidden_neurons,inp)\n",
    "    network.append(build_output_layer(out,hidden_neurons))\n",
    "    return network\n"
   ]
  },
  {
   "cell_type": "code",
   "execution_count": 16,
   "metadata": {},
   "outputs": [],
   "source": [
    "def transfer_derivatives(out) :\n",
    "    return out*(1-out)"
   ]
  },
  {
   "cell_type": "code",
   "execution_count": 19,
   "metadata": {},
   "outputs": [],
   "source": [
    "def backward_propagate_error(network,expected) :\n",
    "    for i in reversed(range(len(network))) :\n",
    "        layer = network[i]\n",
    "        errors = []\n",
    "        if i != len(network)-1 :\n",
    "            for j in range(len(layer)) :\n",
    "                error = 0.0\n",
    "                for neuron in network[i+1] :\n",
    "                    error += (neuron['weights'][j]*neuron['delta'])\n",
    "                errors.append(error)\n",
    "        else :\n",
    "            for j in range(len(layer)) :\n",
    "                neuron = layer[j]\n",
    "                errors.append(float(expected[j])-neuron['output'])\n",
    "        for j in range(len(layer)) :\n",
    "            neuron = layer[j]\n",
    "            neuron['delta'] = errors[j]*transfer_derivatives(neuron['output']) "
   ]
  },
  {
   "cell_type": "code",
   "execution_count": 30,
   "metadata": {},
   "outputs": [],
   "source": [
    "def update_weights(network,row,lr=0.1) :\n",
    "    for i in range(len(network)) :\n",
    "        inputs = row[:-1]\n",
    "        if i != 0 :\n",
    "            inputs = [ neuron['output'] for neuron in network[i-1] ]\n",
    "        for neuron in network[i] :\n",
    "            for j in range(len(inputs)) :\n",
    "                neuron['weights'][j] += lr*float(neuron['delta'])*float(inputs[j])\n",
    "            neuron['weights'][-1] += lr*neuron['delta'] "
   ]
  },
  {
   "cell_type": "code",
   "execution_count": 32,
   "metadata": {},
   "outputs": [],
   "source": [
    "# do a forward pass for all rows.\n",
    "expected = [0, 1, 2]\n",
    "def single_pass() :\n",
    "    network = build_neural_network(inp,hidden_layers,hidden_neurons,out)\n",
    "    for i in range(df.shape[0]) :\n",
    "        forward_propagate(network,df.iloc[i].tolist())\n",
    "        backward_propagate_error(network,df['wheat_type'].tolist())\n",
    "        update_weights(network,df.iloc[i].tolist())\n",
    "#forward_pass()"
   ]
  },
  {
   "cell_type": "code",
   "execution_count": 35,
   "metadata": {},
   "outputs": [],
   "source": [
    "def train_network(epochs) :\n",
    "    for i in range(epochs) :\n",
    "        single_pass()\n",
    "train_network(10)"
   ]
  },
  {
   "cell_type": "code",
   "execution_count": null,
   "metadata": {},
   "outputs": [],
   "source": [
    "# adding keras for comparison\n",
    "# from keras.models import Sequential\n",
    "# from keras.layers import Dense, Activation\n",
    "# model = Sequential()\n",
    "# model.add(Dense(32, input_dim=784))\n",
    "# model.add(Activation('relu'))\n"
   ]
  },
  {
   "cell_type": "code",
   "execution_count": null,
   "metadata": {},
   "outputs": [],
   "source": []
  }
 ],
 "metadata": {
  "kernelspec": {
   "display_name": "Python 3",
   "language": "python",
   "name": "python3"
  },
  "language_info": {
   "codemirror_mode": {
    "name": "ipython",
    "version": 3
   },
   "file_extension": ".py",
   "mimetype": "text/x-python",
   "name": "python",
   "nbconvert_exporter": "python",
   "pygments_lexer": "ipython3",
   "version": "3.7.4"
  }
 },
 "nbformat": 4,
 "nbformat_minor": 2
}
