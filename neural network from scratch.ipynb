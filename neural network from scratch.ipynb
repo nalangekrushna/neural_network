{
 "cells": [
  {
   "cell_type": "code",
   "execution_count": 1,
   "metadata": {},
   "outputs": [],
   "source": [
    "import random\n",
    "random.seed(123)\n",
    "import numpy as np\n",
    "import pandas as pd\n",
    "np.random.seed(123)"
   ]
  },
  {
   "cell_type": "code",
   "execution_count": 2,
   "metadata": {},
   "outputs": [],
   "source": [
    "# read txt file and convert it into pandas dataframe.\n",
    "txt = ''\n",
    "with open('seeds_dataset.txt') as f :\n",
    "    txt = f.read()\n",
    "    "
   ]
  },
  {
   "cell_type": "code",
   "execution_count": 3,
   "metadata": {},
   "outputs": [],
   "source": [
    "data = []\n",
    "for line in txt.split('\\n') :\n",
    "    data.append([word for word in line.split('\\t') if word != ''])"
   ]
  },
  {
   "cell_type": "code",
   "execution_count": 4,
   "metadata": {},
   "outputs": [],
   "source": [
    "df = pd.DataFrame(data,columns=['area','perimeter','compactness','kernel_len','kernel_wid','coef_asymmetry','kernel_groove_len'\n",
    "                               ,'wheat_type'],copy=True)"
   ]
  },
  {
   "cell_type": "code",
   "execution_count": 5,
   "metadata": {},
   "outputs": [
    {
     "data": {
      "text/plain": [
       "array(['1', '2', '3'], dtype=object)"
      ]
     },
     "execution_count": 5,
     "metadata": {},
     "output_type": "execute_result"
    }
   ],
   "source": [
    "df.wheat_type.unique()"
   ]
  },
  {
   "cell_type": "code",
   "execution_count": 6,
   "metadata": {},
   "outputs": [
    {
     "data": {
      "text/plain": [
       "(210, 8)"
      ]
     },
     "execution_count": 6,
     "metadata": {},
     "output_type": "execute_result"
    }
   ],
   "source": [
    "df.shape"
   ]
  },
  {
   "cell_type": "code",
   "execution_count": 7,
   "metadata": {},
   "outputs": [
    {
     "data": {
      "text/plain": [
       "0.052363598850944326"
      ]
     },
     "execution_count": 7,
     "metadata": {},
     "output_type": "execute_result"
    }
   ],
   "source": [
    "def get_normal_random_weight() :\n",
    "    return random.uniform(0, 1)\n",
    "get_normal_random_weight()"
   ]
  },
  {
   "cell_type": "code",
   "execution_count": 8,
   "metadata": {},
   "outputs": [],
   "source": [
    "def build_single_neuron(inp) :\n",
    "    neuron = {}\n",
    "    neuron['weights'] = [ random.uniform(0, 1) for i in range(inp+1) ]\n",
    "    return neuron"
   ]
  },
  {
   "cell_type": "code",
   "execution_count": 42,
   "metadata": {
    "scrolled": true
   },
   "outputs": [
    {
     "data": {
      "text/plain": [
       "[{'weights': [0.06263564431359725,\n",
       "   0.25336194995859596,\n",
       "   0.168020375038908,\n",
       "   0.4160567101659304,\n",
       "   0.4249764758602258]},\n",
       " {'weights': [0.6070585475338274,\n",
       "   0.49680968876011555,\n",
       "   0.16476953922391535,\n",
       "   0.046621071319652985,\n",
       "   0.5247721982443964]},\n",
       " {'weights': [0.7638566846893943,\n",
       "   0.9268939013125862,\n",
       "   0.8396383240376201,\n",
       "   0.3027528040099047,\n",
       "   0.8656732430775638]}]"
      ]
     },
     "execution_count": 42,
     "metadata": {},
     "output_type": "execute_result"
    }
   ],
   "source": [
    "def build_single_hidden_layer(no_of_neurons,no_of_inputs) :\n",
    "    layer = []\n",
    "    for i in range(no_of_neurons) :\n",
    "        layer.append(build_single_neuron(no_of_inputs))\n",
    "    return layer"
   ]
  },
  {
   "cell_type": "code",
   "execution_count": 44,
   "metadata": {},
   "outputs": [
    {
     "data": {
      "text/plain": [
       "[[{'weights': [0.4673915447602902,\n",
       "    0.2824470291123572,\n",
       "    0.09215872811695913,\n",
       "    0.4427124158506194,\n",
       "    0.5449613597795614]},\n",
       "  {'weights': [0.27929936950932854,\n",
       "    0.19529882461359027,\n",
       "    0.9408904680768644,\n",
       "    0.06777491893982879,\n",
       "    0.939392256680005]},\n",
       "  {'weights': [0.40641295759207385,\n",
       "    0.7915177900236534,\n",
       "    0.11094804898017563,\n",
       "    0.5700076403666973,\n",
       "    0.761696224317614]}],\n",
       " [{'weights': [0.4360117280281445,\n",
       "    0.35646624232715174,\n",
       "    0.4932188103687801,\n",
       "    0.1944599146366902,\n",
       "    0.2116300536464455]},\n",
       "  {'weights': [0.24131152758298502,\n",
       "    0.03755665752648618,\n",
       "    0.9100241304052978,\n",
       "    0.07343992146589373,\n",
       "    0.9271381201286817]},\n",
       "  {'weights': [0.010956133993142214,\n",
       "    0.6562134498500771,\n",
       "    0.5469276311244807,\n",
       "    0.04184170011186694,\n",
       "    0.9414667729029921]}]]"
      ]
     },
     "execution_count": 44,
     "metadata": {},
     "output_type": "execute_result"
    }
   ],
   "source": [
    "def build_hidden_layers(layers,no_of_neurons,no_of_inputs) :\n",
    "    network = []\n",
    "    for i in range(layers) :\n",
    "        network.append(build_single_hidden_layer(no_of_neurons,no_of_inputs))\n",
    "    return network"
   ]
  },
  {
   "cell_type": "code",
   "execution_count": 48,
   "metadata": {},
   "outputs": [
    {
     "data": {
      "text/plain": [
       "[[{'weights': [0.808001576013212,\n",
       "    0.465399007301589,\n",
       "    0.6478904242823934,\n",
       "    0.2842166187874783,\n",
       "    0.5385051352053422]},\n",
       "  {'weights': [0.5626741945572333,\n",
       "    0.5865009997208089,\n",
       "    0.7860964907016605,\n",
       "    0.3386246278783821,\n",
       "    0.16918262868879097]},\n",
       "  {'weights': [0.3748940158813264,\n",
       "    0.5859276212515593,\n",
       "    0.4908297196196507,\n",
       "    0.37245172824233197,\n",
       "    0.42137498902751547]}]]"
      ]
     },
     "execution_count": 48,
     "metadata": {},
     "output_type": "execute_result"
    }
   ],
   "source": [
    "def build_output_layer(out_neuron,no_of_inputs) :\n",
    "    return build_hidden_layers(1,out_neuron,no_of_inputs)"
   ]
  },
  {
   "cell_type": "code",
   "execution_count": 11,
   "metadata": {},
   "outputs": [],
   "source": [
    "def calculate_activation_value(weights,inputs) :\n",
    "    activation = weights[-1]\n",
    "    for i in range(len(weights)-1) :\n",
    "        activation += weights[i] * inputs[i]\n",
    "    return activation"
   ]
  },
  {
   "cell_type": "code",
   "execution_count": 12,
   "metadata": {},
   "outputs": [],
   "source": [
    "def transfer(act) :\n",
    "    return 1/(1+e^(-act))"
   ]
  },
  {
   "cell_type": "code",
   "execution_count": 13,
   "metadata": {},
   "outputs": [],
   "source": [
    "def forward_propagate(network,row) :\n",
    "    inputs = row\n",
    "    for layer in network :\n",
    "        new_inputs = []\n",
    "        for neuron in layer :\n",
    "            activation = calculate_activation_value(neuron['weights'],inputs)\n",
    "            neuron['output'] = transfer(activation)\n",
    "            new_inputs.append(neuron['output'])\n",
    "        inputs = new_inputs\n",
    "    return inputs"
   ]
  },
  {
   "cell_type": "code",
   "execution_count": 47,
   "metadata": {},
   "outputs": [
    {
     "name": "stdout",
     "output_type": "stream",
     "text": [
      "7 2 7 3\n"
     ]
    },
    {
     "data": {
      "text/plain": [
       "[[{'weights': [0.16335569610662282,\n",
       "    0.02671482607993625,\n",
       "    0.7287206950121947,\n",
       "    0.764372512055565,\n",
       "    0.9009222434862069,\n",
       "    0.6724659589033983,\n",
       "    0.78009977335241,\n",
       "    0.365520098686237]},\n",
       "  {'weights': [0.10081332278536825,\n",
       "    0.9999133401695608,\n",
       "    0.6046932794257612,\n",
       "    0.2704503396247001,\n",
       "    0.8927630924752599,\n",
       "    0.07359212905995738,\n",
       "    0.05678103055556505,\n",
       "    0.2548510682668663]},\n",
       "  {'weights': [0.1300911773150547,\n",
       "    0.4107476777789437,\n",
       "    0.6210782696305431,\n",
       "    0.5194195120962015,\n",
       "    0.5537166138297663,\n",
       "    0.1193780129122054,\n",
       "    0.5349347004365425,\n",
       "    0.9751611718264387]},\n",
       "  {'weights': [0.32978934263362525,\n",
       "    0.799247419841678,\n",
       "    0.6379859959069121,\n",
       "    0.7620594872751336,\n",
       "    0.6579474755258273,\n",
       "    0.43950779703815535,\n",
       "    0.23497705910616173,\n",
       "    0.09356901674573537]},\n",
       "  {'weights': [0.11324530556289636,\n",
       "    0.10092621246200106,\n",
       "    0.7673499393533436,\n",
       "    0.8373133122046096,\n",
       "    0.8176168570544177,\n",
       "    0.8847971625246096,\n",
       "    0.35876851486397676,\n",
       "    0.6740881292543922]},\n",
       "  {'weights': [0.8202799551517206,\n",
       "    0.13230423917931766,\n",
       "    0.0003483996939619427,\n",
       "    0.20965584546314464,\n",
       "    0.9157638475617236,\n",
       "    0.8076725484222771,\n",
       "    0.12964234354303605,\n",
       "    0.8471740639497004]},\n",
       "  {'weights': [0.1746517385253863,\n",
       "    0.2666818903483642,\n",
       "    0.1681480316623465,\n",
       "    0.8839396565417388,\n",
       "    0.8280675881026375,\n",
       "    0.06491853202661257,\n",
       "    0.023827367439984704,\n",
       "    0.7912337077331346]}],\n",
       " [{'weights': [0.39368867327357926,\n",
       "    0.5684227872905153,\n",
       "    0.6381097784247525,\n",
       "    0.543597331004684,\n",
       "    0.18799539562334922,\n",
       "    0.31033247196231784,\n",
       "    0.5974464233771214,\n",
       "    0.7842863176897997]},\n",
       "  {'weights': [0.3382180928667312,\n",
       "    0.022660848986971183,\n",
       "    0.14526651284183534,\n",
       "    0.2848850032703809,\n",
       "    0.9611734092232899,\n",
       "    0.42697587022160943,\n",
       "    0.49749399755125334,\n",
       "    0.42272207934902795]},\n",
       "  {'weights': [0.866101464622899,\n",
       "    0.8006350842967039,\n",
       "    0.15395734585936405,\n",
       "    0.6660731959890057,\n",
       "    0.5498796717999626,\n",
       "    0.897513894954988,\n",
       "    0.06273097134363415,\n",
       "    0.5782904398820602]},\n",
       "  {'weights': [0.18981954008876312,\n",
       "    0.569344011830842,\n",
       "    0.8171744857860667,\n",
       "    0.4340270438130278,\n",
       "    0.5347987185338463,\n",
       "    0.3651275714829998,\n",
       "    0.944834760061902,\n",
       "    0.8624100775732633]},\n",
       "  {'weights': [0.08969085245816666,\n",
       "    0.042731731675003104,\n",
       "    0.534933208866548,\n",
       "    0.31145885364194514,\n",
       "    0.031235286654776373,\n",
       "    0.6752073469432877,\n",
       "    0.15618528317891778,\n",
       "    0.6438237095275975]},\n",
       "  {'weights': [0.0986115856333376,\n",
       "    0.7139256153312372,\n",
       "    0.8374502615018383,\n",
       "    0.7971722389105158,\n",
       "    0.8829522838629634,\n",
       "    0.6152648283864313,\n",
       "    0.333758768900544,\n",
       "    0.18244040491373792]},\n",
       "  {'weights': [0.6578525483958738,\n",
       "    0.9742608251320932,\n",
       "    0.658076254131759,\n",
       "    0.1039326644488473,\n",
       "    0.043505208313409205,\n",
       "    0.15223660809184625,\n",
       "    0.8028942916092726,\n",
       "    0.1359385980818939]}],\n",
       " [[{'weights': [0.7059250076213834,\n",
       "     0.5837294034806095,\n",
       "     0.36479084573765574,\n",
       "     0.4208016001119559,\n",
       "     0.2631937584554567,\n",
       "     0.4109744194491799,\n",
       "     0.18402860711150026,\n",
       "     0.5291398528603198]},\n",
       "   {'weights': [0.6608178461085626,\n",
       "     0.5497428483636986,\n",
       "     0.9913272921358579,\n",
       "     0.9250386730013339,\n",
       "     0.8902810110177584,\n",
       "     0.6039072402510415,\n",
       "     0.14402590334225063,\n",
       "     0.7588916167379602]},\n",
       "   {'weights': [0.9435364727963449,\n",
       "     0.6006217606449953,\n",
       "     0.45404630832637527,\n",
       "     0.6552461776606077,\n",
       "     0.6269210189472619,\n",
       "     0.8276777606548922,\n",
       "     0.47940065733679293,\n",
       "     0.3716636247654175]}]]]"
      ]
     },
     "execution_count": 47,
     "metadata": {},
     "output_type": "execute_result"
    }
   ],
   "source": [
    "inp = df.shape[1] -1 \n",
    "hidden_layers = 2    # two hidden layers.\n",
    "hidden_neurons = 7 \n",
    "\n",
    "out = len(df.wheat_type.unique())\n",
    "print(inp,hidden_layers,hidden_neurons,out)\n",
    "\n",
    "def build_neural_network(inp,hidden_layers,hidden_neurons,out) :\n",
    "    network = build_hidden_layers(hidden_layers,hidden_neurons,inp)\n",
    "    network.append(build_output_layer(out,hidden_neurons))\n",
    "    return network\n",
    "build_neural_network(inp,hidden_layers,hidden_neurons,out)"
   ]
  },
  {
   "cell_type": "code",
   "execution_count": 36,
   "metadata": {},
   "outputs": [
    {
     "data": {
      "text/plain": [
       "(210, 8)"
      ]
     },
     "execution_count": 36,
     "metadata": {},
     "output_type": "execute_result"
    }
   ],
   "source": [
    "df.shape"
   ]
  },
  {
   "cell_type": "code",
   "execution_count": 37,
   "metadata": {},
   "outputs": [
    {
     "data": {
      "text/plain": [
       "array(['1', '2', '3'], dtype=object)"
      ]
     },
     "execution_count": 37,
     "metadata": {},
     "output_type": "execute_result"
    }
   ],
   "source": [
    "df.wheat_type.unique()"
   ]
  },
  {
   "cell_type": "code",
   "execution_count": null,
   "metadata": {},
   "outputs": [],
   "source": [
    "\n"
   ]
  }
 ],
 "metadata": {
  "kernelspec": {
   "display_name": "Python 3",
   "language": "python",
   "name": "python3"
  },
  "language_info": {
   "codemirror_mode": {
    "name": "ipython",
    "version": 3
   },
   "file_extension": ".py",
   "mimetype": "text/x-python",
   "name": "python",
   "nbconvert_exporter": "python",
   "pygments_lexer": "ipython3",
   "version": "3.7.4"
  }
 },
 "nbformat": 4,
 "nbformat_minor": 2
}
